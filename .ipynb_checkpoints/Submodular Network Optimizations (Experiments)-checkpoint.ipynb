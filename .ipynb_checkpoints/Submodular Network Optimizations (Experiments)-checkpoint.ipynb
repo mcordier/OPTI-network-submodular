{
 "cells": [
  {
   "cell_type": "code",
   "execution_count": 1,
   "metadata": {},
   "outputs": [],
   "source": [
    "import numpy as np\n",
    "import networkx as nx\n",
    "import ndlib.models.epidemics.SIRModel as sir\n",
    "from ndlib.utils import multi_runs\n",
    "import ndlib.models.ModelConfig as mc\n",
    "from ndlib.viz.mpl.DiffusionTrend import DiffusionTrend\n",
    "from network_optimizer import *\n",
    "\n",
    "from sklearn.cluster import SpectralClustering\n",
    "from sklearn import metrics\n",
    "\n",
    "from submodular_fun import covdiv_F\n",
    "import pandas as pd \n",
    "\n",
    "from bokeh.io import output_notebook, show\n",
    "import matplotlib.pyplot as plt\n",
    "from math import *\n",
    "\n",
    "import warnings\n",
    "warnings.filterwarnings(\"ignore\")"
   ]
  },
  {
   "cell_type": "markdown",
   "metadata": {},
   "source": [
    "## 5) Experiments\n",
    "### 5.1) Experiment on small random graphs\n",
    "In this part, the cost is constant (1 for each node selected) to simplify hyperparameter optimization.\n",
    "##### 5.1.1) Hyper-parameters optimization"
   ]
  },
  {
   "cell_type": "markdown",
   "metadata": {},
   "source": [
    "##### Coverage-Diversity function : $\\lambda$ optimization"
   ]
  },
  {
   "cell_type": "code",
   "execution_count": 3,
   "metadata": {},
   "outputs": [
    {
     "name": "stdout",
     "output_type": "stream",
     "text": [
      "cluster done\n",
      "0 783.56\n",
      "0.05 782.39\n",
      "0.1 783.25\n",
      "0.5 777.28\n",
      "1 780.59\n",
      "5 761.52\n",
      "10 758.33\n",
      "25 760.39\n",
      "50 755.92\n",
      "        0\n",
      "0  783.56\n",
      "1  782.39\n",
      "2  783.25\n",
      "3  777.28\n",
      "4  780.59\n",
      "5  761.52\n",
      "6  758.33\n",
      "7  760.39\n",
      "8  755.92\n"
     ]
    }
   ],
   "source": [
    "L = ['facebook_combined', ] #, 50]\n",
    "k = 25\n",
    "p = 0.4\n",
    "r=1\n",
    "Lambda = [0, 0.05, 0.1, 0.5, 1, 5, 10, 25, 50]\n",
    "Res = np.zeros((len(Lambda), len(L)))\n",
    "parameters = {'beta' : 0.01, 'gamma': 0.1, 'T': 3, 'N': 100}\n",
    "j = 0\n",
    "for l in L:\n",
    "    i = 0\n",
    "    #g=nx.relaxed_caveman_graph(l, k, p) #better models for social networks\n",
    "    file = 'data/{}.txt'.format(l)\n",
    "    g = nx.read_edgelist(file,create_using=nx.Graph())\n",
    "    g = nx.convert_node_labels_to_integers(g)\n",
    "    V = list(g.nodes)\n",
    "    nbr_nodes = len(V)\n",
    "    adj = nx.adjacency_matrix(g)\n",
    "    budget = np.amax(np.array(adj.sum(axis=0)))\n",
    "    sim = cosine_similarity(adj,adj)\n",
    "    degree_cent = nx.degree_centrality(g)\n",
    "    opt = Optimizer_contagion_Model(g, parameters)\n",
    "    n_cluster = ceil(0.01*nbr_nodes)\n",
    "    cluster = opt.get_cluster(n_cluster)\n",
    "    print('cluster done')\n",
    "    for lambda0 in Lambda:\n",
    "        #cost = lambda S:len(S) #Constant cost\n",
    "        f_sub = lambda S : covdiv_F(S, V, cluster, sim, degree_cent, lambda1=lambda0)\n",
    "        S = opt.greedy_submodular(f_sub, None, budget=budget, r=r, lazy=True)\n",
    "        Res[i][j] = opt.f_sub(S)\n",
    "        print(lambda0, Res[i][j])\n",
    "        i += 1\n",
    "    j += 1\n",
    "print(pd.DataFrame(Res))\n",
    "pd.DataFrame(Res).to_csv(\"experiments/hyperparameters_opt/hyp_par_lambda.csv\")"
   ]
  },
  {
   "cell_type": "code",
   "execution_count": 4,
   "metadata": {},
   "outputs": [
    {
     "data": {
      "image/png": "[encoded data removed]",
      "text/plain": [
       "<matplotlib.figure.Figure at 0x7f06ea295b70>"
      ]
     },
     "metadata": {
      "needs_background": "light"
     },
     "output_type": "display_data"
    }
   ],
   "source": [
    "plt.scatter(Lambda, Res[:,0], label=L[0])\n",
    "plt.xlabel('nbr_nodes')\n",
    "plt.ylabel('sigma(hat(S),30)')\n",
    "plt.legend()\n",
    "plt.savefig('hyp_par_lambda.png')\n",
    "plt.show()"
   ]
  },
  {
   "cell_type": "markdown",
   "metadata": {},
   "source": [
    "##### Coverage-Diversity function : $K$ optimization (number of cluster)\n",
    "We assume that the optimal number of cluster the following law : $K = \\alpha \\times N$ with $N$ the number of nodes (the more big the network is, the more cluster there should be). What's the optimal $\\alpha$ ? (Best alpha in litterature $\\alpha =  0.2$ [Lin Bilmes 210])"
   ]
  },
  {
   "cell_type": "code",
   "execution_count": null,
   "metadata": {},
   "outputs": [],
   "source": [
    "Alpha = [0.2, 0.3, 0.4, 0.5, 0.6, 0.7, 0.8, 1]\n",
    "L = ['facebook'] \n",
    "k = 25\n",
    "p = 0.6\n",
    "Res = np.zeros((len(Alpha), len(L)))\n",
    "parameters = {'beta' : 0.01, 'gamma': 0.01, 'T': 3, 'N': 100}\n",
    "j = 0\n",
    "for l in L:\n",
    "    i = 0\n",
    "    #g=nx.relaxed_caveman_graph(l, k, p) #better models for social networks\n",
    "    file = 'data/facebook_combined.txt'\n",
    "    g = nx.read_edgelist(file,create_using=nx.Graph())\n",
    "    g = nx.convert_node_labels_to_integers(g)\n",
    "    V = list(g.nodes)\n",
    "    nbr_nodes = len(V)\n",
    "    adj = nx.adjacency_matrix(g)\n",
    "    sim = cosine_similarity(adj,adj)\n",
    "    degree_cent = nx.degree_centrality(g)\n",
    "    budget = np.amax(np.array(adj.sum(axis=0)))\n",
    "    V = list(g.nodes)\n",
    "    opt = Optimizer_contagion_Model(g, parameters)\n",
    "    print('cluster done')\n",
    "    for alpha in Alpha:\n",
    "        n_cluster = ceil(0.05*nbr_nodes)\n",
    "        cluster = opt.get_cluster(n_cluster)\n",
    "        cost = lambda S:len(S) #Constant cost\n",
    "        f_sub = lambda S : covdiv_F(S, V, cluster, sim, degree_cent, lambda1=lambda0)\n",
    "        S = opt.greedy_submodular(f_sub, None, budget=budget, r=1)\n",
    "        \n",
    "        Res[i][j] = opt.f_sub(S)\n",
    "        i += 1\n",
    "    j += 1\n",
    "print(pd.DataFrame(Res))\n",
    "pd.DataFrame(Res).to_csv(\"experiments/hyperparameters_opt/hyp_par_alpha.csv\")\n",
    "\n",
    "for i in range(len(Alpha)):\n",
    "    plt.plot([i * 25 for i in L], Res[i], label='alpha={}'.format(Alpha[i]))\n",
    "plt.xlabel('nbr_nodes')\n",
    "plt.ylabel('sigma(hat(S),30)')\n",
    "plt.legend()\n",
    "plt.savefig('hyp_par_alpha.png')\n",
    "plt.show()"
   ]
  },
  {
   "cell_type": "markdown",
   "metadata": {},
   "source": [
    "##### Greedy-alg + Coverage-Diversity function : $r$ optimization (scability)\n",
    "Litterature : $r=0.3$"
   ]
  },
  {
   "cell_type": "code",
   "execution_count": 16,
   "metadata": {},
   "outputs": [
    {
     "name": "stdout",
     "output_type": "stream",
     "text": [
      "cluster done\n",
      "        0\n",
      "0  453.58\n",
      "1  569.81\n",
      "2  760.29\n",
      "3  787.13\n",
      "4  791.74\n",
      "5  794.11\n",
      "6  799.68\n",
      "7  797.32\n",
      "8  805.36\n",
      "9  800.65\n"
     ]
    }
   ],
   "source": [
    "L = ['facebook']#[1, 2, 3, 4, 8, 15] #, 20, 50]\n",
    "k = 25\n",
    "p = 0.4\n",
    "R = [0, 0.1, 0.5, 1, 1.5, 2, 2.5, 3, 5, 10]\n",
    "Res_r = np.zeros((len(R), len(L)))\n",
    "lambda0 = 0.1\n",
    "parameters = {'beta' : 0.01, 'gamma': 0.1, 'T': 3, 'N': 100}\n",
    "j = 0\n",
    "for l in L:\n",
    "    i = 0\n",
    "    #g=nx.relaxed_caveman_graph(l, k, p) #better models for social networks\n",
    "    file = 'data/facebook_combined.txt'\n",
    "    g = nx.read_edgelist(file,create_using=nx.Graph())\n",
    "    g = nx.convert_node_labels_to_integers(g)\n",
    "    V = list(g.nodes)\n",
    "    nbr_nodes = len(V)\n",
    "    adj = nx.adjacency_matrix(g)\n",
    "    sim = cosine_similarity(adj,adj)\n",
    "    budget = np.amax(np.array(adj.sum(axis=0)))\n",
    "    degree_cent = nx.degree_centrality(g)\n",
    "    V = list(g.nodes)\n",
    "    opt = Optimizer_contagion_Model(g, parameters)\n",
    "    n_cluster = ceil(0.01*nbr_nodes)\n",
    "    cluster = opt.get_cluster(n_cluster)\n",
    "    print('cluster done')\n",
    "    for r in R:\n",
    "        cost = lambda S:len(S) #Constant cost\n",
    "        f_sub = lambda S : covdiv_F(S, V, cluster, sim, degree_cent, lambda1=lambda0)\n",
    "        S = opt.greedy_submodular(f_sub, None, budget=budget, r=r, lazy=True)\n",
    "        Res_r[i][j] = opt.f_sub(S)\n",
    "        i += 1\n",
    "    j += 1\n",
    "print(pd.DataFrame(Res_r))\n",
    "pd.DataFrame(Res_r).to_csv(\"experiments/hyperparameters_opt/hyp_par_r.csv\")"
   ]
  },
  {
   "cell_type": "code",
   "execution_count": null,
   "metadata": {},
   "outputs": [],
   "source": [
    "print(pd.DataFrame(Res_r))\n",
    "plt.scatter(R, Res_r[:,0], label=L[0])\n",
    "plt.xlabel('lambda')\n",
    "plt.ylabel('sigma(hat(S),30)')\n",
    "plt.legend()\n",
    "plt.savefig('hyp_par_r.png')\n",
    "plt.show()"
   ]
  },
  {
   "cell_type": "markdown",
   "metadata": {},
   "source": [
    "##### 5.1.2) Comparison (random/covdiv/expected) [Long]"
   ]
  },
  {
   "cell_type": "code",
   "execution_count": 7,
   "metadata": {},
   "outputs": [
    {
     "name": "stdout",
     "output_type": "stream",
     "text": [
      "cluster done\n",
      "2.86 2.9 2.87\n",
      "[3] [13] [11]\n",
      "cluster done\n",
      "4.26 4.47 4.68\n",
      "[28] [24] [32]\n",
      "cluster done\n",
      "6.24 5.84 5.88\n",
      "[37] [23] [50]\n",
      "cluster done\n",
      "9.63 9.83 9.68\n",
      "[95, 47] [95, 48] [67, 95]\n"
     ]
    },
    {
     "data": {
      "image/png": "[encoded data removed]",
      "text/plain": [
       "<matplotlib.figure.Figure at 0x7f06e9ef5a20>"
      ]
     },
     "metadata": {
      "needs_background": "light"
     },
     "output_type": "display_data"
    }
   ],
   "source": [
    "L = [1, 2, 3, 4] #, 8, 15, 20, 50]\n",
    "k = 25\n",
    "p = 0.4\n",
    "Res = np.zeros((3, len(L)))\n",
    "Funs = ['Expectated number of infected nodes', 'Coverage-Diversity function', 'random']\n",
    "parameters = {'beta' : 0.01, 'gamma': 0.1, 'T': 3, 'N': 100}\n",
    "j = 0\n",
    "lambda0 = 0.1\n",
    "for l in L:\n",
    "    i = 0\n",
    "    g=nx.relaxed_caveman_graph(l, k, p) #better models for social networks\n",
    "    adj = nx.adjacency_matrix(g)\n",
    "    budget = np.amax(np.array(adj.sum(axis=0))) + 4\n",
    "    sim = cosine_similarity(adj,adj)\n",
    "    degree_cent = nx.degree_centrality(g)\n",
    "    V = list(g.nodes)\n",
    "    opt = Optimizer_contagion_Model(g, parameters)\n",
    "    n_cluster = ceil(0.2*l*k)\n",
    "    cluster = opt.get_cluster(n_cluster)\n",
    "    print('cluster done')\n",
    "    cost = lambda S:len(S) #Constant cost\n",
    "    f_sub = lambda S : covdiv_F(S, V, cluster, sim, degree_cent, lambda1=lambda0)\n",
    "    S1 = opt.greedy_submodular(f_sub, None, budget=budget, r=1, lazy=True)\n",
    "    Res[1][j] = opt.f_sub(S1)\n",
    "    \n",
    "    S2 = opt.greedy_submodular(cost_fun=None, budget=budget, r=1, lazy=True)\n",
    "    Res[0][j] = opt.f_sub(S2)\n",
    "    \n",
    "    S3 = opt.random_select(cost_fun=None, budget=budget)\n",
    "    Res[2][j] = opt.f_sub(S3)\n",
    "    \n",
    "    print(Res[0][j], Res[1][j], Res[2][j])\n",
    "    print(S1, S2, S3)\n",
    "    j += 1\n",
    "pd.DataFrame(Res).to_csv(\"experiments/comparison_small_rand.csv\")\n",
    "for i in range(3):\n",
    "    plt.plot([i * 25 for i in L], Res[i], label=Funs[i])\n",
    "plt.xlabel('nbr_nodes')\n",
    "plt.ylabel('sigma(hat(S),30)')\n",
    "plt.legend()\n",
    "plt.savefig('comparison_small_rand.png')\n",
    "plt.show()"
   ]
  },
  {
   "cell_type": "markdown",
   "metadata": {},
   "source": [
    "### 5.) Experiment on real data\n",
    "$\\alpha=0.2$, $\\lambda=0.1$, $r=5$. Budget : nbr maximal de neigbors"
   ]
  },
  {
   "cell_type": "code",
   "execution_count": null,
   "metadata": {},
   "outputs": [
    {
     "name": "stdout",
     "output_type": "stream",
     "text": [
      "cluster done\n",
      "l\n"
     ]
    }
   ],
   "source": [
    "alpha = 0.01\n",
    "file = 'data/facebook_combined.txt'\n",
    "g = nx.read_edgelist(file,create_using=nx.Graph())\n",
    "g = nx.convert_node_labels_to_integers(g)\n",
    "V = list(g.nodes)\n",
    "r = 0.5\n",
    "parameters = {'beta' : 0.01, 'gamma': 0.1, 'T': 4, 'N': 50}\n",
    "\n",
    "adj = nx.adjacency_matrix(g)\n",
    "budget = np.amax(np.array(adj.sum(axis=0))) + 1\n",
    "sim = cosine_similarity(adj,adj)\n",
    "degree_cent = nx.degree_centrality(g)\n",
    "opt = Optimizer_contagion_Model(g, parameters)\n",
    "n_cluster = ceil(0.05*len(V))\n",
    "cluster = opt.get_cluster(n_cluster)\n",
    "print('cluster done')\n",
    "#cost = lambda S:len(S) #Constant cost\n",
    "f_sub = lambda S : covdiv_F(S, V, cluster, sim, degree_cent, lambda1=0.1)\n",
    "S1 = opt.greedy_submodular(f_sub, None, budget=budget, r=r, lazy=True) #f_sub)\n",
    "print('l')\n",
    "S2 = opt.greedy_submodular(cost_fun=None, budget=budget, r=1, lazy=True) #f_sub)\n",
    "\n",
    "S3 = opt.random_select(cost_fun=None, budget=budget)\n",
    "\n",
    "print(opt.f_sub(S1, N0=100), opt.f_sub(S2, N0=100), opt.f_sub(S3, N0=100))\n",
    "print(S1, S2, S3)"
   ]
  },
  {
   "cell_type": "code",
   "execution_count": null,
   "metadata": {},
   "outputs": [],
   "source": [
    "print(opt.f_sub([2], N0=100))"
   ]
  }
 ],
 "metadata": {
  "celltoolbar": "Format de la Cellule Texte Brut",
  "kernelspec": {
   "display_name": "Python 3",
   "language": "python",
   "name": "python3"
  },
  "language_info": {
   "codemirror_mode": {
    "name": "ipython",
    "version": 3
   },
   "file_extension": ".py",
   "mimetype": "text/x-python",
   "name": "python",
   "nbconvert_exporter": "python",
   "pygments_lexer": "ipython3",
   "version": "3.6.7"
  }
 },
 "nbformat": 4,
 "nbformat_minor": 2
}
