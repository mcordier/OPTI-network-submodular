{
 "cells": [
  {
   "cell_type": "code",
   "execution_count": 1,
   "metadata": {},
   "outputs": [],
   "source": [
    "import networkx as nx\n",
    "import ndlib.models.epidemics.SIRModel as sir\n",
    "from ndlib.utils import multi_runs\n",
    "import ndlib.models.ModelConfig as mc\n",
    "import numpy as np\n",
    "from sklearn.cluster import SpectralClustering\n",
    "from sklearn import metrics\n",
    "np.random.seed(1)"
   ]
  },
  {
   "cell_type": "markdown",
   "metadata": {},
   "source": [
    "## 1) Introduction : SIR model Example"
   ]
  },
  {
   "cell_type": "code",
   "execution_count": 2,
   "metadata": {},
   "outputs": [],
   "source": [
    "# Network Definition\n",
    "nbr_nodes = 25\n",
    "g = nx.erdos_renyi_graph(nbr_nodes, 0.1)\n",
    "\n",
    "# Model Selection\n",
    "model = sir.SIRModel(g)"
   ]
  },
  {
   "cell_type": "code",
   "execution_count": 3,
   "metadata": {},
   "outputs": [
    {
     "name": "stderr",
     "output_type": "stream",
     "text": [
      "/home/matthieu/.local/lib/python3.6/site-packages/ndlib/models/DiffusionModel.py:114: UserWarning: Initial infection missing: a random sample of 5% of graph nodes will be set as infected\n",
      "  warnings.warn('Initial infection missing: a random sample of 5% of graph nodes will be set as infected')\n"
     ]
    }
   ],
   "source": [
    "import ndlib.models.ModelConfig as mc\n",
    "\n",
    "# Model Configuration\n",
    "config = mc.Configuration()\n",
    "config.add_model_parameter('beta', 0.01)\n",
    "config.add_model_parameter('gamma', 0.01)\n",
    "#config.add_model_parameter(\"percentage_infected\", 0.05)\n",
    "model.set_initial_status(config)"
   ]
  },
  {
   "cell_type": "code",
   "execution_count": 4,
   "metadata": {},
   "outputs": [],
   "source": [
    "# Simulation\n",
    "N=1\n",
    "infection_sets = [(4,5) for i in range(N) ]\n",
    "trends = multi_runs(model, execution_number=N, iteration_number=100, infection_sets=infection_sets, nprocesses=4)"
   ]
  },
  {
   "cell_type": "code",
   "execution_count": 5,
   "metadata": {},
   "outputs": [
    {
     "data": {
      "text/plain": [
       "<matplotlib.figure.Figure at 0x7f285765bfd0>"
      ]
     },
     "metadata": {},
     "output_type": "display_data"
    }
   ],
   "source": [
    "from bokeh.io import output_notebook, show\n",
    "from ndlib.viz.mpl.DiffusionTrend import DiffusionTrend\n",
    "import matplotlib.pyplot as plt\n",
    "\n",
    "viz = DiffusionTrend(model, trends)\n",
    "viz.plot(\"diffusion.pdf\", percentile=90)\n",
    "plt.show()"
   ]
  },
  {
   "cell_type": "code",
   "execution_count": 6,
   "metadata": {},
   "outputs": [
    {
     "data": {
      "text/plain": [
       "7"
      ]
     },
     "execution_count": 6,
     "metadata": {},
     "output_type": "execute_result"
    }
   ],
   "source": [
    "infected_nodes = trends[0]['trends']['node_count'][1][99]\n",
    "immune_nodes = trends[0]['trends']['node_count'][2][99]\n",
    "total=immune_nodes + infected_nodes\n",
    "total"
   ]
  },
  {
   "cell_type": "markdown",
   "metadata": {},
   "source": [
    "## 2) Cost and Submodular function definition"
   ]
  },
  {
   "cell_type": "code",
   "execution_count": 7,
   "metadata": {},
   "outputs": [
    {
     "data": {
      "text/plain": [
       "200"
      ]
     },
     "execution_count": 7,
     "metadata": {},
     "output_type": "execute_result"
    }
   ],
   "source": [
    "def cluster_linear_cost(g, S):\n",
    "    '''\n",
    "    Linear Cluster cost : compute the cost of selecting the nodes S\n",
    "    The cost is linear with a neighbors/clustering measure\n",
    "    '''\n",
    "    #res = nx.clustering(g, S)\n",
    "    cost = 0\n",
    "    for i in S:\n",
    "        #cost += res[i]*100\n",
    "        cost += len(g[i])*100\n",
    "    return(max(cost,1))\n",
    "\n",
    "#Example\n",
    "cluster_linear_cost(g, [4,1])\n",
    "\n",
    "#Other ideas for the cost\n",
    "#According to people : 100 $ for 10.000 followers. We could use \n",
    "#a cost function linear to the number of neigbors."
   ]
  },
  {
   "cell_type": "code",
   "execution_count": 31,
   "metadata": {},
   "outputs": [],
   "source": [
    "def expected_infected_nodes(S, model, T, N=20):\n",
    "    '''\n",
    "    S : Initial infected nodes [list] (variable)\n",
    "    model : infection model [NDlib model] (parameter)\n",
    "    T : number of iteration [int] (parameter)\n",
    "    N : Number of simulation for Monte Carlo [int] (parameter)'''\n",
    "    if len(S)==0:\n",
    "        return(0)\n",
    "    infection_sets = [S for i in range(N)]\n",
    "    model.reset()\n",
    "    trends = multi_runs(model, execution_number=N, iteration_number=T, infection_sets=infection_sets)\n",
    "    res = 0\n",
    "    for i in trends:\n",
    "        res += i['trends']['node_count'][1][T-1]\n",
    "        res += i['trends']['node_count'][2][T-1]\n",
    "    res = float(res)/float(N)\n",
    "    return(res)"
   ]
  },
  {
   "cell_type": "code",
   "execution_count": 15,
   "metadata": {},
   "outputs": [
    {
     "name": "stdout",
     "output_type": "stream",
     "text": [
      "10\n"
     ]
    },
    {
     "data": {
      "text/plain": [
       "20"
      ]
     },
     "execution_count": 15,
     "metadata": {},
     "output_type": "execute_result"
    }
   ],
   "source": [
    "#Example. Note : this will be the submodular function to maximize\n",
    "expected_infected_nodes([4,1], model, T=100, N=10)"
   ]
  },
  {
   "cell_type": "markdown",
   "metadata": {},
   "source": [
    "## 3) Greedy algorithm (for submodular functions)"
   ]
  },
  {
   "cell_type": "code",
   "execution_count": 68,
   "metadata": {},
   "outputs": [],
   "source": [
    "N0 = 50\n",
    "T0 = 100\n",
    "B = 1000\n",
    "def f_sub(x):\n",
    "    return expected_infected_nodes(x, model, T0, N0)\n",
    "\n",
    "def cost(x):\n",
    "    res = cluster_linear_cost(g, x)\n",
    "    return(res)\n",
    "\n",
    "def g_1(f, G, u, c, r):\n",
    "    return((f(G+[u])-f(G))/(c([u]))**r )\n",
    "\n",
    "def greedy_submodular(f, V, c):\n",
    "    r=1\n",
    "    G = []\n",
    "    U = V.copy()\n",
    "    cost = 0\n",
    "    while len(U)!=0 and B-cost>100:\n",
    "        L = [g_1(f, G, u, c, r) for u in U]\n",
    "        k = U[np.array(L).argmax()]\n",
    "        if cost + c([k]) <= B: # and f(G + [k])- f(G) >= 0: \n",
    "            G += [k]\n",
    "            cost += c([k])\n",
    "        U.remove(k)\n",
    "        print(len(G))\n",
    "    L = [f([i]) for i in V if c([i])<B]\n",
    "    v = np.array(L).argmax()\n",
    "    if f(G)>f([V[v]]):\n",
    "        return(G)\n",
    "    else:\n",
    "        return(V[v])"
   ]
  },
  {
   "cell_type": "code",
   "execution_count": 22,
   "metadata": {},
   "outputs": [
    {
     "name": "stdout",
     "output_type": "stream",
     "text": [
      "1\n",
      "2\n",
      "3\n",
      "4\n",
      "5\n",
      "6\n",
      "7\n",
      "7\n",
      "8\n"
     ]
    }
   ],
   "source": [
    "# Example\n",
    "S = greedy_submodular(f_sub, list(range(nbr_nodes)), cost)"
   ]
  },
  {
   "cell_type": "code",
   "execution_count": 36,
   "metadata": {},
   "outputs": [
    {
     "name": "stdout",
     "output_type": "stream",
     "text": [
      "[1, 5, 9, 4, 10, 11, 12, 2] 14.94\n"
     ]
    }
   ],
   "source": [
    "print(S,f_sub(S))"
   ]
  },
  {
   "cell_type": "code",
   "execution_count": 34,
   "metadata": {},
   "outputs": [
    {
     "name": "stdout",
     "output_type": "stream",
     "text": [
      "['red', 'red', 'red', 'red', 'red', 'red', 'red', 'red', 'red', 'red', 'red', 'red', 'red', 'red', 'red', 'red', 'red', 'red', 'red', 'red', 'red', 'red', 'red', 'red', 'red']\n"
     ]
    },
    {
     "data": {
      "image/png": "[encoded data removed]",
      "text/plain": [
       "<matplotlib.figure.Figure at 0x7f287494d6a0>"
      ]
     },
     "metadata": {},
     "output_type": "display_data"
    },
    {
     "data": {
      "text/plain": [
       "[1, 5, 9, 4, 10, 11, 12, 2]"
      ]
     },
     "execution_count": 34,
     "metadata": {},
     "output_type": "execute_result"
    }
   ],
   "source": [
    "#g2 = g.copy()\n",
    "#g2.remove_nodes_from(nx.isolates(g)) \n",
    "color_map = ['red' for node in g.nodes]\n",
    "print(color_map)\n",
    "for i in S:\n",
    "    color_map[i] = 'blue'\n",
    "nx.draw(g, with_labels=True, node_color = color_map, font_weight='bold')\n",
    "plt.show()\n",
    "S"
   ]
  },
  {
   "cell_type": "markdown",
   "metadata": {},
   "source": [
    "## 4) Others submodular function\n",
    "The problem with 'expected_infected_nodes' is its computational cost. Indeed, the function is a simulation, and it can be very long to compute the expected number of infected nodes for very big networks (it's slow even for a network of size 50)"
   ]
  },
  {
   "cell_type": "markdown",
   "metadata": {},
   "source": [
    "### a) Coverage and Diversity submodular functions\n",
    "One first idea would be the following :  <b> use some submodular document summarization tricks </b> for our problem. Document summarization with submodular functions optimization is a well studied problem. A very popular formulation (\"A class of submodular function for document summarization\" by Hui Lin and Jeff Bilmes) is to decompose the submodular function to optimize into a <b>coverage function </b> and a <b> diversity function</b>."
   ]
  },
  {
   "cell_type": "code",
   "execution_count": 26,
   "metadata": {},
   "outputs": [
    {
     "name": "stdout",
     "output_type": "stream",
     "text": [
      "spectral clustering\n",
      "[0 0 1 0 0 2 1 1 0 1 1 2 0 0 2 0 0 0 0 2 0 2 0 1 1]\n"
     ]
    },
    {
     "name": "stderr",
     "output_type": "stream",
     "text": [
      "/home/matthieu/.local/lib/python3.6/site-packages/sklearn/manifold/spectral_embedding_.py:237: UserWarning: Graph is not fully connected, spectral embedding may not work as expected.\n",
      "  warnings.warn(\"Graph is not fully connected, spectral embedding\"\n"
     ]
    }
   ],
   "source": [
    "# Diversity function\n",
    "\n",
    "# 1) Clustering for div_R\n",
    "# To have the desired diversity function, we need a clustering of nodes\n",
    "\n",
    "# Get your mentioned graph\n",
    "n_clusters = 3\n",
    "\n",
    "# Get adjacency-matrix as numpy-array\n",
    "adj_mat = nx.to_numpy_matrix(g)\n",
    "# Cluster\n",
    "sc = SpectralClustering(n_clusters, affinity='precomputed', n_init=100)\n",
    "sc.fit(adj_mat)\n",
    "\n",
    "# Compare ground-truth and clustering-results\n",
    "print('spectral clustering')\n",
    "print(sc.labels_)\n",
    "cluster = {k:[] for k in range(n_clusters)}\n",
    "for i in range(len(sc.labels_)):\n",
    "    cluster[sc.labels_[i]].append(i)"
   ]
  },
  {
   "cell_type": "code",
   "execution_count": 44,
   "metadata": {},
   "outputs": [],
   "source": [
    "#2) div_R definition\n",
    "def div_R(S, V, cluster, g, alpha=0.8):\n",
    "    degree_cent = nx.degree_centrality(g)\n",
    "    K = len(cluster)\n",
    "    res = 0\n",
    "    for k in range(K):\n",
    "        S_inter_Pk = list(set(S) & set(cluster[k]))\n",
    "        res1 = 0\n",
    "        for j in S_inter_Pk:\n",
    "            res1 += degree_cent[j]\n",
    "        res += np.sqrt(res1)\n",
    "    return(res)"
   ]
  },
  {
   "cell_type": "code",
   "execution_count": null,
   "metadata": {},
   "outputs": [],
   "source": []
  },
  {
   "cell_type": "code",
   "execution_count": 27,
   "metadata": {},
   "outputs": [],
   "source": [
    "# 3) Coverage function (how much some nodes covers the network)\n",
    "def cov_L(S, V, g, alpha=0.8):\n",
    "    res = 0\n",
    "    degree_cent = nx.degree_centrality(g)\n",
    "    for x in S:\n",
    "        res += degree_cent[x]\n",
    "    return(res)\n",
    "\n",
    "# 4) submodular function = cov + div\n",
    "def covdiv_F(S, V, cluster, g, lambda1=0.5):\n",
    "    if len(S)==0:\n",
    "        return(0)\n",
    "    return(cov_L(S, V, g) + lambda1*div_R(S, V, cluster, g))"
   ]
  },
  {
   "cell_type": "code",
   "execution_count": 28,
   "metadata": {},
   "outputs": [],
   "source": [
    "# Easy functions to use for greedy algorithm\n",
    "def f_sub_2(S):\n",
    "    return covdiv_F(S, g.nodes, cluster, g, lambda1=0.5)"
   ]
  },
  {
   "cell_type": "code",
   "execution_count": 29,
   "metadata": {},
   "outputs": [
    {
     "name": "stdout",
     "output_type": "stream",
     "text": [
      "1\n",
      "2\n",
      "3\n",
      "4\n",
      "5\n",
      "6\n",
      "7\n",
      "8\n",
      "[1, 5, 9, 4, 10, 11, 12, 2]\n",
      "{0: [0, 1, 3, 4, 8, 12, 13, 15, 16, 17, 18, 20, 22], 1: [2, 6, 7, 9, 10, 23, 24], 2: [5, 11, 14, 19, 21]}\n"
     ]
    }
   ],
   "source": [
    "# Test for a random model\n",
    "S = greedy_submodular(f_sub_2, list(range(nbr_nodes)), cost)\n",
    "print(S)\n",
    "print(cluster)"
   ]
  },
  {
   "cell_type": "code",
   "execution_count": 32,
   "metadata": {},
   "outputs": [
    {
     "data": {
      "image/png": "[encoded data removed]",
      "text/plain": [
       "<matplotlib.figure.Figure at 0x7f2874a780f0>"
      ]
     },
     "metadata": {},
     "output_type": "display_data"
    },
    {
     "data": {
      "text/plain": [
       "21.0"
      ]
     },
     "execution_count": 32,
     "metadata": {},
     "output_type": "execute_result"
    }
   ],
   "source": [
    "#g2 = g.copy()\n",
    "#g2.remove_nodes_from(nx.isolates(g)) \n",
    "color_map = ['red' for node in g.nodes]\n",
    "if type(S)==int:\n",
    "    S =[S]\n",
    "for i in S:\n",
    "    color_map[i] = 'blue'\n",
    "nx.draw(g, with_labels=True, node_color = color_map, font_weight='bold')\n",
    "plt.show()\n",
    "f_sub(S)"
   ]
  },
  {
   "cell_type": "markdown",
   "metadata": {},
   "source": [
    "It seems the result is the same, but much quicker ! We can use this function for huge networks."
   ]
  },
  {
   "cell_type": "markdown",
   "metadata": {},
   "source": [
    "## 5) Experiments (real networks)"
   ]
  },
  {
   "cell_type": "markdown",
   "metadata": {},
   "source": [
    "### a) Data loading"
   ]
  },
  {
   "cell_type": "code",
   "execution_count": 65,
   "metadata": {},
   "outputs": [
    {
     "name": "stdout",
     "output_type": "stream",
     "text": [
      "4039\n"
     ]
    },
    {
     "name": "stderr",
     "output_type": "stream",
     "text": [
      "/home/matthieu/.local/lib/python3.6/site-packages/ndlib/models/DiffusionModel.py:114: UserWarning: Initial infection missing: a random sample of 5% of graph nodes will be set as infected\n",
      "  warnings.warn('Initial infection missing: a random sample of 5% of graph nodes will be set as infected')\n"
     ]
    }
   ],
   "source": [
    "file = 'data/facebook_combined.txt'\n",
    "gf = nx.read_edgelist(file,create_using=nx.Graph())\n",
    "gf = nx.convert_node_labels_to_integers(gf)\n",
    "print(len(gf.nodes))\n",
    "\n",
    "model = sir.SIRModel(gf)\n",
    "# Model Configuration\n",
    "config = mc.Configuration()\n",
    "config.add_model_parameter('beta', 0.01)\n",
    "config.add_model_parameter('gamma', 0.01)\n",
    "#config.add_model_parameter(\"percentage_infected\", 0.05)\n",
    "model.set_initial_status(config)"
   ]
  },
  {
   "cell_type": "markdown",
   "metadata": {},
   "source": [
    "### b) Optimization\n",
    "#### Cluster creation"
   ]
  },
  {
   "cell_type": "code",
   "execution_count": 66,
   "metadata": {},
   "outputs": [
    {
     "name": "stdout",
     "output_type": "stream",
     "text": [
      "spectral clustering\n",
      "[14  4  8 ...  2  2  2]\n"
     ]
    }
   ],
   "source": [
    "n_clusters = 20\n",
    "\n",
    "# Get adjacency-matrix as numpy-array\n",
    "adj_mat = nx.to_numpy_matrix(gf)\n",
    "# Cluster\n",
    "sc = SpectralClustering(n_clusters, affinity='precomputed', n_init=100)\n",
    "sc.fit(adj_mat)\n",
    "\n",
    "# Compare ground-truth and clustering-results\n",
    "print('spectral clustering')\n",
    "print(sc.labels_)\n",
    "cluster = {k:[] for k in range(n_clusters)}\n",
    "for i in range(len(sc.labels_)):\n",
    "    cluster[sc.labels_[i]].append(i)"
   ]
  },
  {
   "cell_type": "markdown",
   "metadata": {},
   "source": [
    "#### Optimization with f_sub2 (cov_div submodular function)"
   ]
  },
  {
   "cell_type": "code",
   "execution_count": 69,
   "metadata": {},
   "outputs": [
    {
     "name": "stdout",
     "output_type": "stream",
     "text": [
      "1\n",
      "2\n",
      "3\n",
      "4\n",
      "5\n",
      "6\n",
      "7\n",
      "8\n",
      "9\n",
      "10\n",
      "11\n",
      "12\n",
      "13\n",
      "14\n",
      "15\n",
      "16\n",
      "17\n",
      "18\n",
      "[11, 397, 1526, 1837, 2406, 3059, 3987, 47, 551, 1793, 3620, 3821, 3950, 2367, 220, 404, 12, 1603]\n"
     ]
    }
   ],
   "source": [
    "B = 3000\n",
    "T0 = 10000 \n",
    "g=gf\n",
    "S = greedy_submodular(f_sub_2, list(gf.nodes), cost)\n",
    "print(S)"
   ]
  },
  {
   "cell_type": "code",
   "execution_count": 71,
   "metadata": {},
   "outputs": [
    {
     "name": "stdout",
     "output_type": "stream",
     "text": [
      "[11, 397, 1526, 1837, 2406, 3059, 3987, 47, 551, 1793, 3620, 3821, 3950, 2367, 220, 404, 12, 1603]\n"
     ]
    },
    {
     "data": {
      "text/plain": [
       "3888.0"
      ]
     },
     "execution_count": 71,
     "metadata": {},
     "output_type": "execute_result"
    }
   ],
   "source": [
    "print(S)\n",
    "f_sub(S)"
   ]
  }
 ],
 "metadata": {
  "kernelspec": {
   "display_name": "Python 3",
   "language": "python",
   "name": "python3"
  },
  "language_info": {
   "codemirror_mode": {
    "name": "ipython",
    "version": 3
   },
   "file_extension": ".py",
   "mimetype": "text/x-python",
   "name": "python",
   "nbconvert_exporter": "python",
   "pygments_lexer": "ipython3",
   "version": "3.7.7"
  }
 },
 "nbformat": 4,
 "nbformat_minor": 2
}
